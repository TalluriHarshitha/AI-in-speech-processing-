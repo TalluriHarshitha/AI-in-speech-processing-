{
 "cells": [
  {
   "cell_type": "markdown",
   "id": "64d4a1a1",
   "metadata": {},
   "source": [
    "#### A2. Speak the sentence “Bhanumathi weds Rajat” (भानुमतिवेड्सरजि||భానుమతి వెడ్స్ర రజత్). Construct speech for the word “Bharat”(భారత్|| भारत|| ಭರತ್|| பாரத்) by combining segmented phonemes taken from “Bhanumathi weds Rajat” speech recording. Listen to this word speech generated and note down the issues associated with this approach of speech synthesis.The string written Indian scripts may have some error. Please validate before using."
   ]
  },
  {
   "cell_type": "code",
   "execution_count": 3,
   "id": "76cc2eef",
   "metadata": {},
   "outputs": [],
   "source": [
    "import os\n",
    "import tempfile\n",
    "import speech_recognition as sr\n",
    "import pyttsx3\n",
    "\n",
    "# Get a temporary directory where you have write permissions\n",
    "custom_temp_dir = r\"C:\\Users\\HP\\Documents\\custom_temp_dir\"\n",
    "\n",
    "# Transcribe the audio file\n",
    "audio_file = r\"C:\\Users\\HP\\Documents\\Audio.wav\"\n",
    "recognizer = sr.Recognizer()\n",
    "with sr.AudioFile(audio_file) as source:\n",
    "    audio_data = recognizer.record(source)\n",
    "transcription = recognizer.recognize_google(audio_data)\n",
    "\n",
    "# Define a function to segment phonemes\n",
    "def segment_phonemes(transcription, target_word):\n",
    "    words = transcription.split()\n",
    "    for word in words:\n",
    "        if word.lower() == target_word.lower():\n",
    "            return word\n",
    "\n",
    "# Segment phonemes for the word \"Bharat\"\n",
    "phonemes = segment_phonemes(transcription, \"Bharat\")\n",
    "\n",
    "# Synthesize speech for the word \"Bharat\"\n",
    "engine = pyttsx3.init()\n",
    "output_file = os.path.join(custom_temp_dir, \"bharat_speech.wav\")\n",
    "engine.save_to_file(phonemes, output_file)\n",
    "engine.runAndWait()\n",
    "\n",
    "# Now you can use the output file for further processing"
   ]
  },
  {
   "cell_type": "code",
   "execution_count": 2,
   "id": "ddeae7cf",
   "metadata": {},
   "outputs": [
    {
     "name": "stdout",
     "output_type": "stream",
     "text": [
      "Collecting SpeechRecognition\n",
      "  Downloading SpeechRecognition-3.10.3-py2.py3-none-any.whl (32.8 MB)\n",
      "     -------------------------------------- 32.8/32.8 MB 203.6 kB/s eta 0:00:00\n",
      "Collecting pyttsx3\n",
      "  Downloading pyttsx3-2.90-py3-none-any.whl (39 kB)\n",
      "Requirement already satisfied: typing-extensions in c:\\users\\hp\\anaconda\\lib\\site-packages (from SpeechRecognition) (4.3.0)\n",
      "Requirement already satisfied: requests>=2.26.0 in c:\\users\\hp\\anaconda\\lib\\site-packages (from SpeechRecognition) (2.28.1)\n",
      "Collecting pypiwin32\n",
      "  Downloading pypiwin32-223-py3-none-any.whl (1.7 kB)\n",
      "Requirement already satisfied: comtypes in c:\\users\\hp\\anaconda\\lib\\site-packages (from pyttsx3) (1.1.10)\n",
      "Requirement already satisfied: pywin32 in c:\\users\\hp\\anaconda\\lib\\site-packages (from pyttsx3) (302)\n",
      "Requirement already satisfied: charset-normalizer<3,>=2 in c:\\users\\hp\\anaconda\\lib\\site-packages (from requests>=2.26.0->SpeechRecognition) (2.0.4)\n",
      "Requirement already satisfied: urllib3<1.27,>=1.21.1 in c:\\users\\hp\\anaconda\\lib\\site-packages (from requests>=2.26.0->SpeechRecognition) (1.26.11)\n",
      "Requirement already satisfied: certifi>=2017.4.17 in c:\\users\\hp\\anaconda\\lib\\site-packages (from requests>=2.26.0->SpeechRecognition) (2023.5.7)\n",
      "Requirement already satisfied: idna<4,>=2.5 in c:\\users\\hp\\anaconda\\lib\\site-packages (from requests>=2.26.0->SpeechRecognition) (3.3)\n",
      "Installing collected packages: pypiwin32, SpeechRecognition, pyttsx3\n",
      "Successfully installed SpeechRecognition-3.10.3 pypiwin32-223 pyttsx3-2.90\n",
      "Note: you may need to restart the kernel to use updated packages.\n"
     ]
    },
    {
     "name": "stderr",
     "output_type": "stream",
     "text": [
      "WARNING: Ignoring invalid distribution -ensorflow-intel (c:\\users\\hp\\anaconda\\lib\\site-packages)\n",
      "WARNING: Ignoring invalid distribution -ensorflow-intel (c:\\users\\hp\\anaconda\\lib\\site-packages)\n",
      "WARNING: Ignoring invalid distribution -ensorflow-intel (c:\\users\\hp\\anaconda\\lib\\site-packages)\n",
      "WARNING: Ignoring invalid distribution -ensorflow-intel (c:\\users\\hp\\anaconda\\lib\\site-packages)\n",
      "WARNING: Ignoring invalid distribution -ensorflow-intel (c:\\users\\hp\\anaconda\\lib\\site-packages)\n",
      "WARNING: Ignoring invalid distribution -ensorflow-intel (c:\\users\\hp\\anaconda\\lib\\site-packages)\n",
      "WARNING: Ignoring invalid distribution -ensorflow-intel (c:\\users\\hp\\anaconda\\lib\\site-packages)\n",
      "WARNING: Ignoring invalid distribution -ensorflow-intel (c:\\users\\hp\\anaconda\\lib\\site-packages)\n",
      "WARNING: Ignoring invalid distribution -ensorflow-intel (c:\\users\\hp\\anaconda\\lib\\site-packages)\n"
     ]
    }
   ],
   "source": [
    "pip install SpeechRecognition pyttsx3"
   ]
  },
  {
   "cell_type": "code",
   "execution_count": null,
   "id": "103ced4a",
   "metadata": {},
   "outputs": [],
   "source": []
  },
  {
   "cell_type": "code",
   "execution_count": null,
   "id": "68d00309",
   "metadata": {},
   "outputs": [],
   "source": []
  }
 ],
 "metadata": {
  "kernelspec": {
   "display_name": "Python 3 (ipykernel)",
   "language": "python",
   "name": "python3"
  },
  "language_info": {
   "codemirror_mode": {
    "name": "ipython",
    "version": 3
   },
   "file_extension": ".py",
   "mimetype": "text/x-python",
   "name": "python",
   "nbconvert_exporter": "python",
   "pygments_lexer": "ipython3",
   "version": "3.9.13"
  }
 },
 "nbformat": 4,
 "nbformat_minor": 5
}
